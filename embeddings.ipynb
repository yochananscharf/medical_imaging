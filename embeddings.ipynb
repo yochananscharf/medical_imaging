{
 "cells": [
  {
   "cell_type": "code",
   "execution_count": 1,
   "metadata": {},
   "outputs": [
    {
     "data": {
      "text/plain": [
       "<All keys matched successfully>"
      ]
     },
     "execution_count": 1,
     "metadata": {},
     "output_type": "execute_result"
    }
   ],
   "source": [
    "# import torch\n",
    "# import torchvision\n",
    "# model = torchvision.models.swin_transformer.swin_v2_b()\n",
    "# full_state_dict = torch.load('satlas-model-v1-highres.pth')\n",
    "# # Extract just the Swin backbone parameters from the full state dict.\n",
    "# swin_prefix = 'backbone.backbone.'\n",
    "# swin_state_dict = {k[len(swin_prefix):]: v for k, v in full_state_dict.items() if k.startswith(swin_prefix)}\n",
    "# model.load_state_dict(swin_state_dict)"
   ]
  },
  {
   "cell_type": "markdown",
   "metadata": {},
   "source": [
    "https://github.com/allenai/satlaspretrain_models/?tab=readme-ov-file#available-pretrained-models-model_ids"
   ]
  },
  {
   "cell_type": "code",
   "execution_count": 11,
   "metadata": {},
   "outputs": [],
   "source": [
    "#import satlas.model.evaluate\n",
    "import json\n",
    "import torch\n",
    "import satlas.model.model\n",
    "import numpy as np"
   ]
  },
  {
   "cell_type": "code",
   "execution_count": 2,
   "metadata": {},
   "outputs": [
    {
     "data": {
      "text/plain": [
       "<All keys matched successfully>"
      ]
     },
     "execution_count": 2,
     "metadata": {},
     "output_type": "execute_result"
    }
   ],
   "source": [
    "import torch\n",
    "import torchvision\n",
    "#model = torchvision.models.swin_transformer.swin_v2_b()\n",
    "model = torchvision.models.swin_transformer.swin_v2_t()\n",
    "#full_state_dict = torch.load('../satlas-model-v1-highres.pth')\n",
    "full_state_dict = torch.load('../sentinel2_swint_si_rgb.pth')\n",
    "# Extract just the Swin backbone parameters from the full state dict.\n",
    "swin_prefix = 'backbone.backbone.'\n",
    "swin_state_dict = {k[len(swin_prefix):]: v for k, v in full_state_dict.items() if k.startswith(swin_prefix)}\n",
    "\n",
    "\n",
    "# model_int8 = torch.quantization.quantize_dynamic(\n",
    "#     model,  # the original model\n",
    "#     {'SwinTransformerBlockV2'},  # a set of layers to dynamically quantize\n",
    "#     dtype=torch.qint8)\n",
    "\n",
    "model.load_state_dict(swin_state_dict)"
   ]
  },
  {
   "cell_type": "code",
   "execution_count": null,
   "metadata": {},
   "outputs": [],
   "source": [
    "model."
   ]
  },
  {
   "cell_type": "code",
   "execution_count": 6,
   "metadata": {},
   "outputs": [
    {
     "ename": "RuntimeError",
     "evalue": "Error(s) in loading state_dict for Model:\n\tsize mismatch for heads.2.layers.1.weight: copying a param with shape torch.Size([47, 128, 3, 3]) from checkpoint, the shape in current model is torch.Size([6, 128, 3, 3]).\n\tsize mismatch for heads.2.layers.1.bias: copying a param with shape torch.Size([47]) from checkpoint, the shape in current model is torch.Size([6]).",
     "output_type": "error",
     "traceback": [
      "\u001b[1;31m---------------------------------------------------------------------------\u001b[0m",
      "\u001b[1;31mRuntimeError\u001b[0m                              Traceback (most recent call last)",
      "\u001b[1;32md:\\Data\\anchoring_asio\\satlas\\embeddings.ipynb Cell 5\u001b[0m line \u001b[0;36m2\n\u001b[0;32m      <a href='vscode-notebook-cell:/d%3A/Data/anchoring_asio/satlas/embeddings.ipynb#Y115sZmlsZQ%3D%3D?line=0'>1</a>\u001b[0m state_dict \u001b[39m=\u001b[39m torch\u001b[39m.\u001b[39mload(weights_path, map_location\u001b[39m=\u001b[39mdevice)\n\u001b[1;32m----> <a href='vscode-notebook-cell:/d%3A/Data/anchoring_asio/satlas/embeddings.ipynb#Y115sZmlsZQ%3D%3D?line=1'>2</a>\u001b[0m model_int8\u001b[39m.\u001b[39;49mload_state_dict(state_dict)\n",
      "File \u001b[1;32mc:\\Users\\yochanan\\.conda\\envs\\torch\\lib\\site-packages\\torch\\nn\\modules\\module.py:2041\u001b[0m, in \u001b[0;36mModule.load_state_dict\u001b[1;34m(self, state_dict, strict)\u001b[0m\n\u001b[0;32m   2036\u001b[0m         error_msgs\u001b[39m.\u001b[39minsert(\n\u001b[0;32m   2037\u001b[0m             \u001b[39m0\u001b[39m, \u001b[39m'\u001b[39m\u001b[39mMissing key(s) in state_dict: \u001b[39m\u001b[39m{}\u001b[39;00m\u001b[39m. \u001b[39m\u001b[39m'\u001b[39m\u001b[39m.\u001b[39mformat(\n\u001b[0;32m   2038\u001b[0m                 \u001b[39m'\u001b[39m\u001b[39m, \u001b[39m\u001b[39m'\u001b[39m\u001b[39m.\u001b[39mjoin(\u001b[39m'\u001b[39m\u001b[39m\"\u001b[39m\u001b[39m{}\u001b[39;00m\u001b[39m\"\u001b[39m\u001b[39m'\u001b[39m\u001b[39m.\u001b[39mformat(k) \u001b[39mfor\u001b[39;00m k \u001b[39min\u001b[39;00m missing_keys)))\n\u001b[0;32m   2040\u001b[0m \u001b[39mif\u001b[39;00m \u001b[39mlen\u001b[39m(error_msgs) \u001b[39m>\u001b[39m \u001b[39m0\u001b[39m:\n\u001b[1;32m-> 2041\u001b[0m     \u001b[39mraise\u001b[39;00m \u001b[39mRuntimeError\u001b[39;00m(\u001b[39m'\u001b[39m\u001b[39mError(s) in loading state_dict for \u001b[39m\u001b[39m{}\u001b[39;00m\u001b[39m:\u001b[39m\u001b[39m\\n\u001b[39;00m\u001b[39m\\t\u001b[39;00m\u001b[39m{}\u001b[39;00m\u001b[39m'\u001b[39m\u001b[39m.\u001b[39mformat(\n\u001b[0;32m   2042\u001b[0m                        \u001b[39mself\u001b[39m\u001b[39m.\u001b[39m\u001b[39m__class__\u001b[39m\u001b[39m.\u001b[39m\u001b[39m__name__\u001b[39m, \u001b[39m\"\u001b[39m\u001b[39m\\n\u001b[39;00m\u001b[39m\\t\u001b[39;00m\u001b[39m\"\u001b[39m\u001b[39m.\u001b[39mjoin(error_msgs)))\n\u001b[0;32m   2043\u001b[0m \u001b[39mreturn\u001b[39;00m _IncompatibleKeys(missing_keys, unexpected_keys)\n",
      "\u001b[1;31mRuntimeError\u001b[0m: Error(s) in loading state_dict for Model:\n\tsize mismatch for heads.2.layers.1.weight: copying a param with shape torch.Size([47, 128, 3, 3]) from checkpoint, the shape in current model is torch.Size([6, 128, 3, 3]).\n\tsize mismatch for heads.2.layers.1.bias: copying a param with shape torch.Size([47]) from checkpoint, the shape in current model is torch.Size([6])."
     ]
    }
   ],
   "source": [
    "state_dict = torch.load(weights_path, map_location=device)\n",
    "model_int8.load_state_dict(state_dict)"
   ]
  },
  {
   "cell_type": "code",
   "execution_count": 8,
   "metadata": {},
   "outputs": [
    {
     "ename": "FileNotFoundError",
     "evalue": "[Errno 2] No such file or directory: 'satlas-model-v1-highres.pth'",
     "output_type": "error",
     "traceback": [
      "\u001b[1;31m---------------------------------------------------------------------------\u001b[0m",
      "\u001b[1;31mFileNotFoundError\u001b[0m                         Traceback (most recent call last)",
      "\u001b[1;32md:\\Data\\anchoring_asio\\satlas\\embeddings.ipynb Cell 6\u001b[0m line \u001b[0;36m8\n\u001b[0;32m      <a href='vscode-notebook-cell:/d%3A/Data/anchoring_asio/satlas/embeddings.ipynb#W2sZmlsZQ%3D%3D?line=5'>6</a>\u001b[0m \u001b[39mimport\u001b[39;00m \u001b[39mtorchvision\u001b[39;00m\n\u001b[0;32m      <a href='vscode-notebook-cell:/d%3A/Data/anchoring_asio/satlas/embeddings.ipynb#W2sZmlsZQ%3D%3D?line=6'>7</a>\u001b[0m model \u001b[39m=\u001b[39m torchvision\u001b[39m.\u001b[39mmodels\u001b[39m.\u001b[39mswin_transformer\u001b[39m.\u001b[39mswin_v2_b()\n\u001b[1;32m----> <a href='vscode-notebook-cell:/d%3A/Data/anchoring_asio/satlas/embeddings.ipynb#W2sZmlsZQ%3D%3D?line=7'>8</a>\u001b[0m full_state_dict \u001b[39m=\u001b[39m torch\u001b[39m.\u001b[39;49mload(\u001b[39m'\u001b[39;49m\u001b[39msatlas-model-v1-highres.pth\u001b[39;49m\u001b[39m'\u001b[39;49m)\n\u001b[0;32m      <a href='vscode-notebook-cell:/d%3A/Data/anchoring_asio/satlas/embeddings.ipynb#W2sZmlsZQ%3D%3D?line=8'>9</a>\u001b[0m \u001b[39m# Extract just the Swin backbone parameters from the full state dict.\u001b[39;00m\n\u001b[0;32m     <a href='vscode-notebook-cell:/d%3A/Data/anchoring_asio/satlas/embeddings.ipynb#W2sZmlsZQ%3D%3D?line=9'>10</a>\u001b[0m swin_prefix \u001b[39m=\u001b[39m \u001b[39m'\u001b[39m\u001b[39mbackbone.backbone.\u001b[39m\u001b[39m'\u001b[39m\n",
      "File \u001b[1;32mc:\\Users\\yochanan\\.conda\\envs\\torch\\lib\\site-packages\\torch\\serialization.py:791\u001b[0m, in \u001b[0;36mload\u001b[1;34m(f, map_location, pickle_module, weights_only, **pickle_load_args)\u001b[0m\n\u001b[0;32m    788\u001b[0m \u001b[39mif\u001b[39;00m \u001b[39m'\u001b[39m\u001b[39mencoding\u001b[39m\u001b[39m'\u001b[39m \u001b[39mnot\u001b[39;00m \u001b[39min\u001b[39;00m pickle_load_args\u001b[39m.\u001b[39mkeys():\n\u001b[0;32m    789\u001b[0m     pickle_load_args[\u001b[39m'\u001b[39m\u001b[39mencoding\u001b[39m\u001b[39m'\u001b[39m] \u001b[39m=\u001b[39m \u001b[39m'\u001b[39m\u001b[39mutf-8\u001b[39m\u001b[39m'\u001b[39m\n\u001b[1;32m--> 791\u001b[0m \u001b[39mwith\u001b[39;00m _open_file_like(f, \u001b[39m'\u001b[39;49m\u001b[39mrb\u001b[39;49m\u001b[39m'\u001b[39;49m) \u001b[39mas\u001b[39;00m opened_file:\n\u001b[0;32m    792\u001b[0m     \u001b[39mif\u001b[39;00m _is_zipfile(opened_file):\n\u001b[0;32m    793\u001b[0m         \u001b[39m# The zipfile reader is going to advance the current file position.\u001b[39;00m\n\u001b[0;32m    794\u001b[0m         \u001b[39m# If we want to actually tail call to torch.jit.load, we need to\u001b[39;00m\n\u001b[0;32m    795\u001b[0m         \u001b[39m# reset back to the original position.\u001b[39;00m\n\u001b[0;32m    796\u001b[0m         orig_position \u001b[39m=\u001b[39m opened_file\u001b[39m.\u001b[39mtell()\n",
      "File \u001b[1;32mc:\\Users\\yochanan\\.conda\\envs\\torch\\lib\\site-packages\\torch\\serialization.py:271\u001b[0m, in \u001b[0;36m_open_file_like\u001b[1;34m(name_or_buffer, mode)\u001b[0m\n\u001b[0;32m    269\u001b[0m \u001b[39mdef\u001b[39;00m \u001b[39m_open_file_like\u001b[39m(name_or_buffer, mode):\n\u001b[0;32m    270\u001b[0m     \u001b[39mif\u001b[39;00m _is_path(name_or_buffer):\n\u001b[1;32m--> 271\u001b[0m         \u001b[39mreturn\u001b[39;00m _open_file(name_or_buffer, mode)\n\u001b[0;32m    272\u001b[0m     \u001b[39melse\u001b[39;00m:\n\u001b[0;32m    273\u001b[0m         \u001b[39mif\u001b[39;00m \u001b[39m'\u001b[39m\u001b[39mw\u001b[39m\u001b[39m'\u001b[39m \u001b[39min\u001b[39;00m mode:\n",
      "File \u001b[1;32mc:\\Users\\yochanan\\.conda\\envs\\torch\\lib\\site-packages\\torch\\serialization.py:252\u001b[0m, in \u001b[0;36m_open_file.__init__\u001b[1;34m(self, name, mode)\u001b[0m\n\u001b[0;32m    251\u001b[0m \u001b[39mdef\u001b[39;00m \u001b[39m__init__\u001b[39m(\u001b[39mself\u001b[39m, name, mode):\n\u001b[1;32m--> 252\u001b[0m     \u001b[39msuper\u001b[39m()\u001b[39m.\u001b[39m\u001b[39m__init__\u001b[39m(\u001b[39mopen\u001b[39;49m(name, mode))\n",
      "\u001b[1;31mFileNotFoundError\u001b[0m: [Errno 2] No such file or directory: 'satlas-model-v1-highres.pth'"
     ]
    }
   ],
   "source": [
    "config_path = 'configs/highres_pretrain.txt'\n",
    "weights_path = '../satlas-model-v1-highres.pth'#'satlas_explorer_datasets/models/solar_farm/best.pth'\n",
    "image_path = 'stack.npy'\n",
    "\n",
    "import torch\n",
    "import torchvision\n",
    "model = torchvision.models.swin_transformer.swin_v2_b()\n",
    "full_state_dict = torch.load('satlas-model-v1-highres.pth')\n",
    "# Extract just the Swin backbone parameters from the full state dict.\n",
    "swin_prefix = 'backbone.backbone.'\n",
    "swin_state_dict = {k[len(swin_prefix):]: v for k, v in full_state_dict.items() if k.startswith(swin_prefix)}\n",
    "model.load_state_dict(swin_state_dict)"
   ]
  },
  {
   "cell_type": "code",
   "execution_count": 5,
   "metadata": {},
   "outputs": [
    {
     "ename": "FileNotFoundError",
     "evalue": "[Errno 2] No such file or directory: 'satlas-model-v1-highres.pth'",
     "output_type": "error",
     "traceback": [
      "\u001b[1;31m---------------------------------------------------------------------------\u001b[0m",
      "\u001b[1;31mFileNotFoundError\u001b[0m                         Traceback (most recent call last)",
      "Cell \u001b[1;32mIn[5], line 4\u001b[0m\n\u001b[0;32m      2\u001b[0m \u001b[38;5;28;01mimport\u001b[39;00m \u001b[38;5;21;01mtorchvision\u001b[39;00m\n\u001b[0;32m      3\u001b[0m model \u001b[38;5;241m=\u001b[39m torchvision\u001b[38;5;241m.\u001b[39mmodels\u001b[38;5;241m.\u001b[39mswin_transformer\u001b[38;5;241m.\u001b[39mswin_v2_b()\n\u001b[1;32m----> 4\u001b[0m full_state_dict \u001b[38;5;241m=\u001b[39m \u001b[43mtorch\u001b[49m\u001b[38;5;241;43m.\u001b[39;49m\u001b[43mload\u001b[49m\u001b[43m(\u001b[49m\u001b[38;5;124;43m'\u001b[39;49m\u001b[38;5;124;43msatlas-model-v1-highres.pth\u001b[39;49m\u001b[38;5;124;43m'\u001b[39;49m\u001b[43m)\u001b[49m\n\u001b[0;32m      5\u001b[0m \u001b[38;5;66;03m# Extract just the Swin backbone parameters from the full state dict.\u001b[39;00m\n\u001b[0;32m      6\u001b[0m swin_prefix \u001b[38;5;241m=\u001b[39m \u001b[38;5;124m'\u001b[39m\u001b[38;5;124mbackbone.backbone.\u001b[39m\u001b[38;5;124m'\u001b[39m\n",
      "File \u001b[1;32mc:\\Users\\yochanan\\.conda\\envs\\torch\\lib\\site-packages\\torch\\serialization.py:791\u001b[0m, in \u001b[0;36mload\u001b[1;34m(f, map_location, pickle_module, weights_only, **pickle_load_args)\u001b[0m\n\u001b[0;32m    788\u001b[0m \u001b[38;5;28;01mif\u001b[39;00m \u001b[38;5;124m'\u001b[39m\u001b[38;5;124mencoding\u001b[39m\u001b[38;5;124m'\u001b[39m \u001b[38;5;129;01mnot\u001b[39;00m \u001b[38;5;129;01min\u001b[39;00m pickle_load_args\u001b[38;5;241m.\u001b[39mkeys():\n\u001b[0;32m    789\u001b[0m     pickle_load_args[\u001b[38;5;124m'\u001b[39m\u001b[38;5;124mencoding\u001b[39m\u001b[38;5;124m'\u001b[39m] \u001b[38;5;241m=\u001b[39m \u001b[38;5;124m'\u001b[39m\u001b[38;5;124mutf-8\u001b[39m\u001b[38;5;124m'\u001b[39m\n\u001b[1;32m--> 791\u001b[0m \u001b[38;5;28;01mwith\u001b[39;00m \u001b[43m_open_file_like\u001b[49m\u001b[43m(\u001b[49m\u001b[43mf\u001b[49m\u001b[43m,\u001b[49m\u001b[43m \u001b[49m\u001b[38;5;124;43m'\u001b[39;49m\u001b[38;5;124;43mrb\u001b[39;49m\u001b[38;5;124;43m'\u001b[39;49m\u001b[43m)\u001b[49m \u001b[38;5;28;01mas\u001b[39;00m opened_file:\n\u001b[0;32m    792\u001b[0m     \u001b[38;5;28;01mif\u001b[39;00m _is_zipfile(opened_file):\n\u001b[0;32m    793\u001b[0m         \u001b[38;5;66;03m# The zipfile reader is going to advance the current file position.\u001b[39;00m\n\u001b[0;32m    794\u001b[0m         \u001b[38;5;66;03m# If we want to actually tail call to torch.jit.load, we need to\u001b[39;00m\n\u001b[0;32m    795\u001b[0m         \u001b[38;5;66;03m# reset back to the original position.\u001b[39;00m\n\u001b[0;32m    796\u001b[0m         orig_position \u001b[38;5;241m=\u001b[39m opened_file\u001b[38;5;241m.\u001b[39mtell()\n",
      "File \u001b[1;32mc:\\Users\\yochanan\\.conda\\envs\\torch\\lib\\site-packages\\torch\\serialization.py:271\u001b[0m, in \u001b[0;36m_open_file_like\u001b[1;34m(name_or_buffer, mode)\u001b[0m\n\u001b[0;32m    269\u001b[0m \u001b[38;5;28;01mdef\u001b[39;00m \u001b[38;5;21m_open_file_like\u001b[39m(name_or_buffer, mode):\n\u001b[0;32m    270\u001b[0m     \u001b[38;5;28;01mif\u001b[39;00m _is_path(name_or_buffer):\n\u001b[1;32m--> 271\u001b[0m         \u001b[38;5;28;01mreturn\u001b[39;00m \u001b[43m_open_file\u001b[49m\u001b[43m(\u001b[49m\u001b[43mname_or_buffer\u001b[49m\u001b[43m,\u001b[49m\u001b[43m \u001b[49m\u001b[43mmode\u001b[49m\u001b[43m)\u001b[49m\n\u001b[0;32m    272\u001b[0m     \u001b[38;5;28;01melse\u001b[39;00m:\n\u001b[0;32m    273\u001b[0m         \u001b[38;5;28;01mif\u001b[39;00m \u001b[38;5;124m'\u001b[39m\u001b[38;5;124mw\u001b[39m\u001b[38;5;124m'\u001b[39m \u001b[38;5;129;01min\u001b[39;00m mode:\n",
      "File \u001b[1;32mc:\\Users\\yochanan\\.conda\\envs\\torch\\lib\\site-packages\\torch\\serialization.py:252\u001b[0m, in \u001b[0;36m_open_file.__init__\u001b[1;34m(self, name, mode)\u001b[0m\n\u001b[0;32m    251\u001b[0m \u001b[38;5;28;01mdef\u001b[39;00m \u001b[38;5;21m__init__\u001b[39m(\u001b[38;5;28mself\u001b[39m, name, mode):\n\u001b[1;32m--> 252\u001b[0m     \u001b[38;5;28msuper\u001b[39m()\u001b[38;5;241m.\u001b[39m\u001b[38;5;21m__init__\u001b[39m(\u001b[38;5;28;43mopen\u001b[39;49m\u001b[43m(\u001b[49m\u001b[43mname\u001b[49m\u001b[43m,\u001b[49m\u001b[43m \u001b[49m\u001b[43mmode\u001b[49m\u001b[43m)\u001b[49m)\n",
      "\u001b[1;31mFileNotFoundError\u001b[0m: [Errno 2] No such file or directory: 'satlas-model-v1-highres.pth'"
     ]
    }
   ],
   "source": [
    "import torch\n",
    "import torchvision\n",
    "model = torchvision.models.swin_transformer.swin_v2_b()\n",
    "full_state_dict = torch.load('satlas-model-v1-highres.pth')\n",
    "# Extract just the Swin backbone parameters from the full state dict.\n",
    "swin_prefix = 'backbone.backbone.'\n",
    "swin_state_dict = {k[len(swin_prefix):]: v for k, v in full_state_dict.items() if k.startswith(swin_prefix)}\n",
    "model.load_state_dict(swin_state_dict)"
   ]
  },
  {
   "cell_type": "code",
   "execution_count": 3,
   "metadata": {},
   "outputs": [
    {
     "data": {
      "text/plain": [
       "SwinTransformer(\n",
       "  (features): Sequential(\n",
       "    (0): Sequential(\n",
       "      (0): Conv2d(3, 96, kernel_size=(4, 4), stride=(4, 4))\n",
       "      (1): Permute()\n",
       "      (2): LayerNorm((96,), eps=1e-05, elementwise_affine=True)\n",
       "    )\n",
       "    (1): Sequential(\n",
       "      (0): SwinTransformerBlockV2(\n",
       "        (norm1): LayerNorm((96,), eps=1e-05, elementwise_affine=True)\n",
       "        (attn): ShiftedWindowAttentionV2(\n",
       "          (qkv): Linear(in_features=96, out_features=288, bias=True)\n",
       "          (proj): Linear(in_features=96, out_features=96, bias=True)\n",
       "          (cpb_mlp): Sequential(\n",
       "            (0): Linear(in_features=2, out_features=512, bias=True)\n",
       "            (1): ReLU(inplace=True)\n",
       "            (2): Linear(in_features=512, out_features=3, bias=False)\n",
       "          )\n",
       "        )\n",
       "        (stochastic_depth): StochasticDepth(p=0.0, mode=row)\n",
       "        (norm2): LayerNorm((96,), eps=1e-05, elementwise_affine=True)\n",
       "        (mlp): MLP(\n",
       "          (0): Linear(in_features=96, out_features=384, bias=True)\n",
       "          (1): GELU(approximate='none')\n",
       "          (2): Dropout(p=0.0, inplace=False)\n",
       "          (3): Linear(in_features=384, out_features=96, bias=True)\n",
       "          (4): Dropout(p=0.0, inplace=False)\n",
       "        )\n",
       "      )\n",
       "      (1): SwinTransformerBlockV2(\n",
       "        (norm1): LayerNorm((96,), eps=1e-05, elementwise_affine=True)\n",
       "        (attn): ShiftedWindowAttentionV2(\n",
       "          (qkv): Linear(in_features=96, out_features=288, bias=True)\n",
       "          (proj): Linear(in_features=96, out_features=96, bias=True)\n",
       "          (cpb_mlp): Sequential(\n",
       "            (0): Linear(in_features=2, out_features=512, bias=True)\n",
       "            (1): ReLU(inplace=True)\n",
       "            (2): Linear(in_features=512, out_features=3, bias=False)\n",
       "          )\n",
       "        )\n",
       "        (stochastic_depth): StochasticDepth(p=0.018181818181818184, mode=row)\n",
       "        (norm2): LayerNorm((96,), eps=1e-05, elementwise_affine=True)\n",
       "        (mlp): MLP(\n",
       "          (0): Linear(in_features=96, out_features=384, bias=True)\n",
       "          (1): GELU(approximate='none')\n",
       "          (2): Dropout(p=0.0, inplace=False)\n",
       "          (3): Linear(in_features=384, out_features=96, bias=True)\n",
       "          (4): Dropout(p=0.0, inplace=False)\n",
       "        )\n",
       "      )\n",
       "    )\n",
       "    (2): PatchMergingV2(\n",
       "      (reduction): Linear(in_features=384, out_features=192, bias=False)\n",
       "      (norm): LayerNorm((192,), eps=1e-05, elementwise_affine=True)\n",
       "    )\n",
       "    (3): Sequential(\n",
       "      (0): SwinTransformerBlockV2(\n",
       "        (norm1): LayerNorm((192,), eps=1e-05, elementwise_affine=True)\n",
       "        (attn): ShiftedWindowAttentionV2(\n",
       "          (qkv): Linear(in_features=192, out_features=576, bias=True)\n",
       "          (proj): Linear(in_features=192, out_features=192, bias=True)\n",
       "          (cpb_mlp): Sequential(\n",
       "            (0): Linear(in_features=2, out_features=512, bias=True)\n",
       "            (1): ReLU(inplace=True)\n",
       "            (2): Linear(in_features=512, out_features=6, bias=False)\n",
       "          )\n",
       "        )\n",
       "        (stochastic_depth): StochasticDepth(p=0.03636363636363637, mode=row)\n",
       "        (norm2): LayerNorm((192,), eps=1e-05, elementwise_affine=True)\n",
       "        (mlp): MLP(\n",
       "          (0): Linear(in_features=192, out_features=768, bias=True)\n",
       "          (1): GELU(approximate='none')\n",
       "          (2): Dropout(p=0.0, inplace=False)\n",
       "          (3): Linear(in_features=768, out_features=192, bias=True)\n",
       "          (4): Dropout(p=0.0, inplace=False)\n",
       "        )\n",
       "      )\n",
       "      (1): SwinTransformerBlockV2(\n",
       "        (norm1): LayerNorm((192,), eps=1e-05, elementwise_affine=True)\n",
       "        (attn): ShiftedWindowAttentionV2(\n",
       "          (qkv): Linear(in_features=192, out_features=576, bias=True)\n",
       "          (proj): Linear(in_features=192, out_features=192, bias=True)\n",
       "          (cpb_mlp): Sequential(\n",
       "            (0): Linear(in_features=2, out_features=512, bias=True)\n",
       "            (1): ReLU(inplace=True)\n",
       "            (2): Linear(in_features=512, out_features=6, bias=False)\n",
       "          )\n",
       "        )\n",
       "        (stochastic_depth): StochasticDepth(p=0.05454545454545456, mode=row)\n",
       "        (norm2): LayerNorm((192,), eps=1e-05, elementwise_affine=True)\n",
       "        (mlp): MLP(\n",
       "          (0): Linear(in_features=192, out_features=768, bias=True)\n",
       "          (1): GELU(approximate='none')\n",
       "          (2): Dropout(p=0.0, inplace=False)\n",
       "          (3): Linear(in_features=768, out_features=192, bias=True)\n",
       "          (4): Dropout(p=0.0, inplace=False)\n",
       "        )\n",
       "      )\n",
       "    )\n",
       "    (4): PatchMergingV2(\n",
       "      (reduction): Linear(in_features=768, out_features=384, bias=False)\n",
       "      (norm): LayerNorm((384,), eps=1e-05, elementwise_affine=True)\n",
       "    )\n",
       "    (5): Sequential(\n",
       "      (0): SwinTransformerBlockV2(\n",
       "        (norm1): LayerNorm((384,), eps=1e-05, elementwise_affine=True)\n",
       "        (attn): ShiftedWindowAttentionV2(\n",
       "          (qkv): Linear(in_features=384, out_features=1152, bias=True)\n",
       "          (proj): Linear(in_features=384, out_features=384, bias=True)\n",
       "          (cpb_mlp): Sequential(\n",
       "            (0): Linear(in_features=2, out_features=512, bias=True)\n",
       "            (1): ReLU(inplace=True)\n",
       "            (2): Linear(in_features=512, out_features=12, bias=False)\n",
       "          )\n",
       "        )\n",
       "        (stochastic_depth): StochasticDepth(p=0.07272727272727274, mode=row)\n",
       "        (norm2): LayerNorm((384,), eps=1e-05, elementwise_affine=True)\n",
       "        (mlp): MLP(\n",
       "          (0): Linear(in_features=384, out_features=1536, bias=True)\n",
       "          (1): GELU(approximate='none')\n",
       "          (2): Dropout(p=0.0, inplace=False)\n",
       "          (3): Linear(in_features=1536, out_features=384, bias=True)\n",
       "          (4): Dropout(p=0.0, inplace=False)\n",
       "        )\n",
       "      )\n",
       "      (1): SwinTransformerBlockV2(\n",
       "        (norm1): LayerNorm((384,), eps=1e-05, elementwise_affine=True)\n",
       "        (attn): ShiftedWindowAttentionV2(\n",
       "          (qkv): Linear(in_features=384, out_features=1152, bias=True)\n",
       "          (proj): Linear(in_features=384, out_features=384, bias=True)\n",
       "          (cpb_mlp): Sequential(\n",
       "            (0): Linear(in_features=2, out_features=512, bias=True)\n",
       "            (1): ReLU(inplace=True)\n",
       "            (2): Linear(in_features=512, out_features=12, bias=False)\n",
       "          )\n",
       "        )\n",
       "        (stochastic_depth): StochasticDepth(p=0.09090909090909091, mode=row)\n",
       "        (norm2): LayerNorm((384,), eps=1e-05, elementwise_affine=True)\n",
       "        (mlp): MLP(\n",
       "          (0): Linear(in_features=384, out_features=1536, bias=True)\n",
       "          (1): GELU(approximate='none')\n",
       "          (2): Dropout(p=0.0, inplace=False)\n",
       "          (3): Linear(in_features=1536, out_features=384, bias=True)\n",
       "          (4): Dropout(p=0.0, inplace=False)\n",
       "        )\n",
       "      )\n",
       "      (2): SwinTransformerBlockV2(\n",
       "        (norm1): LayerNorm((384,), eps=1e-05, elementwise_affine=True)\n",
       "        (attn): ShiftedWindowAttentionV2(\n",
       "          (qkv): Linear(in_features=384, out_features=1152, bias=True)\n",
       "          (proj): Linear(in_features=384, out_features=384, bias=True)\n",
       "          (cpb_mlp): Sequential(\n",
       "            (0): Linear(in_features=2, out_features=512, bias=True)\n",
       "            (1): ReLU(inplace=True)\n",
       "            (2): Linear(in_features=512, out_features=12, bias=False)\n",
       "          )\n",
       "        )\n",
       "        (stochastic_depth): StochasticDepth(p=0.10909090909090911, mode=row)\n",
       "        (norm2): LayerNorm((384,), eps=1e-05, elementwise_affine=True)\n",
       "        (mlp): MLP(\n",
       "          (0): Linear(in_features=384, out_features=1536, bias=True)\n",
       "          (1): GELU(approximate='none')\n",
       "          (2): Dropout(p=0.0, inplace=False)\n",
       "          (3): Linear(in_features=1536, out_features=384, bias=True)\n",
       "          (4): Dropout(p=0.0, inplace=False)\n",
       "        )\n",
       "      )\n",
       "      (3): SwinTransformerBlockV2(\n",
       "        (norm1): LayerNorm((384,), eps=1e-05, elementwise_affine=True)\n",
       "        (attn): ShiftedWindowAttentionV2(\n",
       "          (qkv): Linear(in_features=384, out_features=1152, bias=True)\n",
       "          (proj): Linear(in_features=384, out_features=384, bias=True)\n",
       "          (cpb_mlp): Sequential(\n",
       "            (0): Linear(in_features=2, out_features=512, bias=True)\n",
       "            (1): ReLU(inplace=True)\n",
       "            (2): Linear(in_features=512, out_features=12, bias=False)\n",
       "          )\n",
       "        )\n",
       "        (stochastic_depth): StochasticDepth(p=0.1272727272727273, mode=row)\n",
       "        (norm2): LayerNorm((384,), eps=1e-05, elementwise_affine=True)\n",
       "        (mlp): MLP(\n",
       "          (0): Linear(in_features=384, out_features=1536, bias=True)\n",
       "          (1): GELU(approximate='none')\n",
       "          (2): Dropout(p=0.0, inplace=False)\n",
       "          (3): Linear(in_features=1536, out_features=384, bias=True)\n",
       "          (4): Dropout(p=0.0, inplace=False)\n",
       "        )\n",
       "      )\n",
       "      (4): SwinTransformerBlockV2(\n",
       "        (norm1): LayerNorm((384,), eps=1e-05, elementwise_affine=True)\n",
       "        (attn): ShiftedWindowAttentionV2(\n",
       "          (qkv): Linear(in_features=384, out_features=1152, bias=True)\n",
       "          (proj): Linear(in_features=384, out_features=384, bias=True)\n",
       "          (cpb_mlp): Sequential(\n",
       "            (0): Linear(in_features=2, out_features=512, bias=True)\n",
       "            (1): ReLU(inplace=True)\n",
       "            (2): Linear(in_features=512, out_features=12, bias=False)\n",
       "          )\n",
       "        )\n",
       "        (stochastic_depth): StochasticDepth(p=0.14545454545454548, mode=row)\n",
       "        (norm2): LayerNorm((384,), eps=1e-05, elementwise_affine=True)\n",
       "        (mlp): MLP(\n",
       "          (0): Linear(in_features=384, out_features=1536, bias=True)\n",
       "          (1): GELU(approximate='none')\n",
       "          (2): Dropout(p=0.0, inplace=False)\n",
       "          (3): Linear(in_features=1536, out_features=384, bias=True)\n",
       "          (4): Dropout(p=0.0, inplace=False)\n",
       "        )\n",
       "      )\n",
       "      (5): SwinTransformerBlockV2(\n",
       "        (norm1): LayerNorm((384,), eps=1e-05, elementwise_affine=True)\n",
       "        (attn): ShiftedWindowAttentionV2(\n",
       "          (qkv): Linear(in_features=384, out_features=1152, bias=True)\n",
       "          (proj): Linear(in_features=384, out_features=384, bias=True)\n",
       "          (cpb_mlp): Sequential(\n",
       "            (0): Linear(in_features=2, out_features=512, bias=True)\n",
       "            (1): ReLU(inplace=True)\n",
       "            (2): Linear(in_features=512, out_features=12, bias=False)\n",
       "          )\n",
       "        )\n",
       "        (stochastic_depth): StochasticDepth(p=0.16363636363636364, mode=row)\n",
       "        (norm2): LayerNorm((384,), eps=1e-05, elementwise_affine=True)\n",
       "        (mlp): MLP(\n",
       "          (0): Linear(in_features=384, out_features=1536, bias=True)\n",
       "          (1): GELU(approximate='none')\n",
       "          (2): Dropout(p=0.0, inplace=False)\n",
       "          (3): Linear(in_features=1536, out_features=384, bias=True)\n",
       "          (4): Dropout(p=0.0, inplace=False)\n",
       "        )\n",
       "      )\n",
       "    )\n",
       "    (6): PatchMergingV2(\n",
       "      (reduction): Linear(in_features=1536, out_features=768, bias=False)\n",
       "      (norm): LayerNorm((768,), eps=1e-05, elementwise_affine=True)\n",
       "    )\n",
       "    (7): Sequential(\n",
       "      (0): SwinTransformerBlockV2(\n",
       "        (norm1): LayerNorm((768,), eps=1e-05, elementwise_affine=True)\n",
       "        (attn): ShiftedWindowAttentionV2(\n",
       "          (qkv): Linear(in_features=768, out_features=2304, bias=True)\n",
       "          (proj): Linear(in_features=768, out_features=768, bias=True)\n",
       "          (cpb_mlp): Sequential(\n",
       "            (0): Linear(in_features=2, out_features=512, bias=True)\n",
       "            (1): ReLU(inplace=True)\n",
       "            (2): Linear(in_features=512, out_features=24, bias=False)\n",
       "          )\n",
       "        )\n",
       "        (stochastic_depth): StochasticDepth(p=0.18181818181818182, mode=row)\n",
       "        (norm2): LayerNorm((768,), eps=1e-05, elementwise_affine=True)\n",
       "        (mlp): MLP(\n",
       "          (0): Linear(in_features=768, out_features=3072, bias=True)\n",
       "          (1): GELU(approximate='none')\n",
       "          (2): Dropout(p=0.0, inplace=False)\n",
       "          (3): Linear(in_features=3072, out_features=768, bias=True)\n",
       "          (4): Dropout(p=0.0, inplace=False)\n",
       "        )\n",
       "      )\n",
       "      (1): SwinTransformerBlockV2(\n",
       "        (norm1): LayerNorm((768,), eps=1e-05, elementwise_affine=True)\n",
       "        (attn): ShiftedWindowAttentionV2(\n",
       "          (qkv): Linear(in_features=768, out_features=2304, bias=True)\n",
       "          (proj): Linear(in_features=768, out_features=768, bias=True)\n",
       "          (cpb_mlp): Sequential(\n",
       "            (0): Linear(in_features=2, out_features=512, bias=True)\n",
       "            (1): ReLU(inplace=True)\n",
       "            (2): Linear(in_features=512, out_features=24, bias=False)\n",
       "          )\n",
       "        )\n",
       "        (stochastic_depth): StochasticDepth(p=0.2, mode=row)\n",
       "        (norm2): LayerNorm((768,), eps=1e-05, elementwise_affine=True)\n",
       "        (mlp): MLP(\n",
       "          (0): Linear(in_features=768, out_features=3072, bias=True)\n",
       "          (1): GELU(approximate='none')\n",
       "          (2): Dropout(p=0.0, inplace=False)\n",
       "          (3): Linear(in_features=3072, out_features=768, bias=True)\n",
       "          (4): Dropout(p=0.0, inplace=False)\n",
       "        )\n",
       "      )\n",
       "    )\n",
       "  )\n",
       "  (norm): LayerNorm((768,), eps=1e-05, elementwise_affine=True)\n",
       "  (permute): Permute()\n",
       "  (avgpool): AdaptiveAvgPool2d(output_size=1)\n",
       "  (flatten): Flatten(start_dim=1, end_dim=-1)\n",
       "  (head): Linear(in_features=768, out_features=1000, bias=True)\n",
       ")"
      ]
     },
     "execution_count": 3,
     "metadata": {},
     "output_type": "execute_result"
    }
   ],
   "source": [
    "device = torch.device(\"cuda\")\n",
    "\n",
    "model.eval()\n",
    "model.to(device)"
   ]
  },
  {
   "cell_type": "code",
   "execution_count": 4,
   "metadata": {},
   "outputs": [],
   "source": [
    "from torchvision import transforms\n",
    "from PIL import Image \n",
    "\n",
    "transform = transforms.Compose([\n",
    "        transforms.ToTensor(),\n",
    "        # pth_transforms.Normalize((123.675, 116.28, 103.53), (58.395, 57.12, 57.375)),\n",
    "    ])\n"
   ]
  },
  {
   "cell_type": "code",
   "execution_count": 5,
   "metadata": {},
   "outputs": [],
   "source": [
    "\n",
    "#load image sample\n",
    "image_path = '../ai_rec/Georef/map_1_0_2.jpg'\n",
    "image_pil = Image.open(image_path)\n",
    "img_tensor = transform(image_pil)\n",
    "img_tensor = img_tensor.unsqueeze(0).cuda()\n",
    "predictions_pos = model(img_tensor) "
   ]
  },
  {
   "cell_type": "code",
   "execution_count": 6,
   "metadata": {},
   "outputs": [],
   "source": [
    "image_path = '../ai_rec/OpticalFlow/map_1_61_1.jpg'\n",
    "image_pil = Image.open(image_path)\n",
    "img_tensor = transform(image_pil)\n",
    "img_tensor = img_tensor.unsqueeze(0).cuda()\n",
    "predictions_neg = model(img_tensor)"
   ]
  },
  {
   "cell_type": "code",
   "execution_count": 7,
   "metadata": {},
   "outputs": [
    {
     "data": {
      "text/plain": [
       "tensor(340, device='cuda:0')"
      ]
     },
     "execution_count": 7,
     "metadata": {},
     "output_type": "execute_result"
    }
   ],
   "source": [
    "(predictions_pos - predictions_neg).argmax()"
   ]
  },
  {
   "cell_type": "code",
   "execution_count": 12,
   "metadata": {},
   "outputs": [
    {
     "name": "stdout",
     "output_type": "stream",
     "text": [
      "torch.Size([368, 3, 240, 240])\n",
      "torch.Size([224, 3, 240, 240])\n"
     ]
    }
   ],
   "source": [
    "# extract embeddings on all images \n",
    "import os\n",
    "pos_dir = '../ai_rec/Georef/'\n",
    "neg_dir = '../ai_rec/OpticalFlow//'\n",
    "all_neg = os.listdir(neg_dir)\n",
    "images_neg = [Image.open(neg_dir + im) for im in all_neg]\n",
    "all_pos = os.listdir(pos_dir)\n",
    "images_pos = [Image.open(pos_dir + im) for im in all_pos]\n",
    "tensor_list_neg = [transform(img) for img in images_neg]\n",
    "tensor_list_pos = [transform(img) for img in images_pos]\n",
    "images_tensor_neg = torch.stack(tensor_list_neg).cuda()\n",
    "images_tensor_pos = torch.stack(tensor_list_pos).cuda()\n",
    "print(images_tensor_neg.shape)\n",
    "print(images_tensor_pos.shape)\n",
    "with torch.no_grad():\n",
    "    predictions_neg = model(images_tensor_neg) \n",
    "    predictions_pos = model(images_tensor_pos) \n",
    "predictions_cpu_neg = predictions_neg.cpu()\n",
    "predictions_cpu_pos = predictions_pos.cpu()\n",
    "del predictions_neg\n",
    "del predictions_pos\n",
    "np.save('positives.npy',predictions_cpu_pos.numpy())\n",
    "np.save('negatives.npy',predictions_cpu_neg.numpy())\n"
   ]
  },
  {
   "cell_type": "code",
   "execution_count": 9,
   "metadata": {},
   "outputs": [
    {
     "data": {
      "text/plain": [
       "torch.Size([368, 1000])"
      ]
     },
     "execution_count": 9,
     "metadata": {},
     "output_type": "execute_result"
    }
   ],
   "source": [
    "predictions.shape"
   ]
  },
  {
   "cell_type": "code",
   "execution_count": 10,
   "metadata": {},
   "outputs": [],
   "source": [
    "predictions_cpu = predictions.cpu()"
   ]
  },
  {
   "cell_type": "code",
   "execution_count": 11,
   "metadata": {},
   "outputs": [],
   "source": [
    "del predictions\n",
    "torch.cuda.empty_cache()"
   ]
  },
  {
   "cell_type": "code",
   "execution_count": 11,
   "metadata": {},
   "outputs": [
    {
     "data": {
      "text/plain": [
       "(224, 1000)"
      ]
     },
     "execution_count": 11,
     "metadata": {},
     "output_type": "execute_result"
    }
   ],
   "source": [
    "predictions_cpu.numpy().shape"
   ]
  },
  {
   "cell_type": "code",
   "execution_count": 11,
   "metadata": {},
   "outputs": [],
   "source": [
    "\n",
    "#np.save('positives.npy',predictions_cpu.numpy())\n",
    "np.save('negatives.npy',predictions_cpu.numpy())"
   ]
  },
  {
   "cell_type": "code",
   "execution_count": 13,
   "metadata": {},
   "outputs": [],
   "source": [
    "#load vectors\n",
    "vectors_positives = np.load('positives.npy')\n",
    "vectors_negatives = np.load('negatives.npy')"
   ]
  },
  {
   "cell_type": "code",
   "execution_count": 13,
   "metadata": {},
   "outputs": [
    {
     "name": "stdout",
     "output_type": "stream",
     "text": [
      "positives (224, 1000) negatives (368, 1000)\n"
     ]
    }
   ],
   "source": [
    "print('positives', vectors_positives.shape, 'negatives', vectors_negatives.shape)"
   ]
  },
  {
   "cell_type": "code",
   "execution_count": 17,
   "metadata": {},
   "outputs": [
    {
     "data": {
      "text/plain": [
       "592"
      ]
     },
     "execution_count": 17,
     "metadata": {},
     "output_type": "execute_result"
    }
   ],
   "source": [
    "224 + 368"
   ]
  },
  {
   "cell_type": "code",
   "execution_count": 18,
   "metadata": {},
   "outputs": [
    {
     "data": {
      "text/plain": [
       "74"
      ]
     },
     "execution_count": 18,
     "metadata": {},
     "output_type": "execute_result"
    }
   ],
   "source": [
    "368-294"
   ]
  },
  {
   "cell_type": "code",
   "execution_count": null,
   "metadata": {},
   "outputs": [],
   "source": []
  },
  {
   "cell_type": "code",
   "execution_count": 14,
   "metadata": {},
   "outputs": [
    {
     "name": "stdout",
     "output_type": "stream",
     "text": [
      "(92, 1000)\n"
     ]
    }
   ],
   "source": [
    "num_total = vectors_positives.shape[0] + vectors_negatives.shape[0]\n",
    "num_p = 200\n",
    "num_n = 300\n",
    "num_train = num_p+num_n\n",
    "num_test = num_total - num_train\n",
    "train_pos = vectors_positives[:num_p]\n",
    "train_neg = vectors_negatives[:num_n]\n",
    "x_train = np.concatenate([train_pos, train_neg])\n",
    "test_pos = vectors_positives[num_p:]\n",
    "test_neg = vectors_negatives[num_n:]\n",
    "x_test = np.concatenate([test_pos, test_neg])\n",
    "print(x_test.shape)"
   ]
  },
  {
   "cell_type": "code",
   "execution_count": 15,
   "metadata": {},
   "outputs": [],
   "source": [
    "y_train = np.ones([num_train])\n",
    "y_train[num_p:]=0#[112:]=1\n",
    "y_test = np.ones([num_test])\n",
    "y_test[test_pos.shape[0]:]=0"
   ]
  },
  {
   "cell_type": "code",
   "execution_count": 16,
   "metadata": {},
   "outputs": [
    {
     "data": {
      "text/plain": [
       "array([1., 1., 1., 1., 1., 1., 1., 1., 1., 1., 1., 1., 1., 1., 1., 1., 1.,\n",
       "       1., 1., 1., 1., 1., 1., 1., 0., 0., 0., 0., 0., 0., 0., 0., 0., 0.,\n",
       "       0., 0., 0., 0., 0., 0., 0., 0., 0., 0., 0., 0., 0., 0., 0., 0., 0.,\n",
       "       0., 0., 0., 0., 0., 0., 0., 0., 0., 0., 0., 0., 0., 0., 0., 0., 0.,\n",
       "       0., 0., 0., 0., 0., 0., 0., 0., 0., 0., 0., 0., 0., 0., 0., 0., 0.,\n",
       "       0., 0., 0., 0., 0., 0., 0.])"
      ]
     },
     "execution_count": 16,
     "metadata": {},
     "output_type": "execute_result"
    }
   ],
   "source": [
    "y_test"
   ]
  },
  {
   "cell_type": "code",
   "execution_count": 16,
   "metadata": {},
   "outputs": [
    {
     "name": "stderr",
     "output_type": "stream",
     "text": [
      "<frozen importlib._bootstrap>:228: RuntimeWarning: scipy._lib.messagestream.MessageStream size changed, may indicate binary incompatibility. Expected 56 from C header, got 64 from PyObject\n"
     ]
    },
    {
     "name": "stdout",
     "output_type": "stream",
     "text": [
      "[0.16664657 0.14802575 0.12050726 0.06613444 0.0561481  0.04662347\n",
      " 0.03438798 0.02529439 0.02198876 0.01988188]\n"
     ]
    }
   ],
   "source": [
    "from sklearn.decomposition import PCA, KernelPCA\n",
    "pca = PCA(n_components=10)\n",
    "pca.fit(x_train)\n",
    "print(pca.explained_variance_ratio_)\n",
    "#x_train_pca_pos = pca.transform(train_pos)\n",
    "#x_train_pca_neg = pca.transform(train_neg)\n",
    "x_train_pca = pca.transform(x_train)\n",
    "x_test_pca = pca.transform(x_test)\n",
    "#np.concatenate([x_train_pca_pos, x_train_pca_neg])"
   ]
  },
  {
   "cell_type": "code",
   "execution_count": 17,
   "metadata": {},
   "outputs": [],
   "source": [
    "from sklearn.svm import SVC, SVR\n",
    "from sklearn.preprocessing import StandardScaler\n",
    "from sklearn.metrics import accuracy_score, recall_score, precision_score, confusion_matrix, ConfusionMatrixDisplay"
   ]
  },
  {
   "cell_type": "code",
   "execution_count": 24,
   "metadata": {},
   "outputs": [],
   "source": [
    "scaler = StandardScaler()\n",
    "scaler.fit(x_train_pca)\n",
    "x_train_scaled = scaler.transform(x_train_pca)\n",
    "x_test_scaled = scaler.transform(x_test_pca)"
   ]
  },
  {
   "cell_type": "code",
   "execution_count": 18,
   "metadata": {},
   "outputs": [
    {
     "ename": "NameError",
     "evalue": "name 'x_train_scaled' is not defined",
     "output_type": "error",
     "traceback": [
      "\u001b[1;31m---------------------------------------------------------------------------\u001b[0m",
      "\u001b[1;31mNameError\u001b[0m                                 Traceback (most recent call last)",
      "Cell \u001b[1;32mIn[18], line 2\u001b[0m\n\u001b[0;32m      1\u001b[0m clf \u001b[38;5;241m=\u001b[39m SVC(kernel\u001b[38;5;241m=\u001b[39m\u001b[38;5;124m'\u001b[39m\u001b[38;5;124mrbf\u001b[39m\u001b[38;5;124m'\u001b[39m, C\u001b[38;5;241m=\u001b[39m\u001b[38;5;241m1\u001b[39m)\n\u001b[1;32m----> 2\u001b[0m clf\u001b[38;5;241m.\u001b[39mfit(\u001b[43mx_train_scaled\u001b[49m, y_train)\n\u001b[0;32m      3\u001b[0m y_predict \u001b[38;5;241m=\u001b[39m clf\u001b[38;5;241m.\u001b[39mpredict(x_train_scaled)\n\u001b[0;32m      4\u001b[0m \u001b[38;5;28mprint\u001b[39m(precision_score(y_train, y_predict), accuracy_score(y_train, y_predict), recall_score(y_train, y_predict))\n",
      "\u001b[1;31mNameError\u001b[0m: name 'x_train_scaled' is not defined"
     ]
    }
   ],
   "source": [
    "clf = SVC(kernel='rbf', C=1)\n",
    "clf.fit(x_train_scaled, y_train)\n",
    "y_predict = clf.predict(x_train_scaled)\n",
    "print(precision_score(y_train, y_predict), accuracy_score(y_train, y_predict), recall_score(y_train, y_predict))"
   ]
  },
  {
   "cell_type": "code",
   "execution_count": 40,
   "metadata": {},
   "outputs": [
    {
     "data": {
      "text/plain": [
       "array([ 9.00113949e-01, -8.94251256e-02,  4.13878166e-01,  5.64688920e-01,\n",
       "        6.82392085e-01,  8.99729717e-01,  9.00378118e-01,  8.83878618e-01,\n",
       "        1.05323165e+00,  9.78271363e-01,  7.73878369e-01,  8.99826053e-01,\n",
       "        8.90169727e-01,  2.24716094e-01,  9.00110763e-01,  9.20184388e-01,\n",
       "        6.25646948e-01,  6.68545512e-01,  9.00155376e-01,  9.76175012e-01,\n",
       "        9.00265048e-01,  6.20929936e-01,  9.00031743e-01,  9.00168144e-01,\n",
       "        6.97600288e-01,  5.15497141e-01,  4.35763226e-01,  4.13518187e-01,\n",
       "        1.49682788e-01,  1.07229641e+00,  1.05742842e+00,  8.99800484e-01,\n",
       "        2.46970842e-01,  4.03047653e-01,  3.35068648e-01,  2.67136601e-01,\n",
       "        3.47718118e-01,  8.77342535e-01,  2.80019586e-02,  4.55188168e-01,\n",
       "        2.89586215e-01,  8.81742201e-01,  8.98734309e-01,  7.18093928e-01,\n",
       "        9.15950946e-01,  8.99916735e-01,  7.98014833e-01,  1.05083507e+00,\n",
       "        6.45186379e-01,  1.10029966e+00,  1.06440257e+00,  8.99689938e-01,\n",
       "        7.05273190e-01,  6.40631309e-01,  2.84067585e-01,  9.00259085e-01,\n",
       "        8.58455571e-01,  9.00379224e-01,  1.03208452e+00,  8.99505428e-01,\n",
       "        8.99637283e-01,  1.09963743e+00,  9.61182619e-01,  1.02040167e+00,\n",
       "        8.99483091e-01,  8.38602859e-01,  2.11338136e-01,  3.15670019e-02,\n",
       "        1.15646564e-01,  2.03279881e-01,  8.99978589e-01,  9.08651455e-01,\n",
       "        9.43008978e-01,  9.00325078e-01,  9.50880366e-01,  8.99951896e-01,\n",
       "        9.28216115e-01,  1.08517422e+00,  1.07730466e+00,  9.81141530e-01,\n",
       "        8.01550103e-01,  8.99810140e-01,  9.42362273e-01,  8.85328600e-01,\n",
       "        9.23576288e-01,  1.05419717e+00,  3.24466420e-01,  9.00320970e-01,\n",
       "        9.12589685e-01,  9.95910032e-01,  6.87958961e-01,  8.99905787e-01,\n",
       "        9.37232186e-01,  1.06702888e+00,  1.00308837e+00,  7.89949892e-01,\n",
       "        9.29116212e-01,  1.01203076e+00,  1.01402470e+00,  9.26434938e-01,\n",
       "        8.99898057e-01,  9.69939377e-01,  9.94548291e-01,  1.01652482e+00,\n",
       "        1.10040071e+00,  1.03972488e+00,  9.47534039e-01,  1.09157339e+00,\n",
       "        9.53523832e-01,  9.35456688e-01,  8.99959674e-01,  1.01021450e+00,\n",
       "        1.07557791e+00,  1.01939301e+00,  9.70127106e-01,  9.12257982e-01,\n",
       "        9.55025890e-01,  9.70399324e-01,  9.15285380e-01,  9.87204054e-01,\n",
       "        9.45011052e-01,  8.99970079e-01,  9.88549291e-01,  9.03950965e-01,\n",
       "        8.99537071e-01,  9.57338362e-01,  1.10022388e+00,  9.05075052e-01,\n",
       "        8.05405228e-01,  8.08649469e-01,  7.20029358e-01,  1.09989964e+00,\n",
       "        9.49406242e-01,  8.99936222e-01,  8.99993822e-01,  8.49501840e-01,\n",
       "        9.00241219e-01,  9.65927185e-01,  2.71676771e-01,  7.44468409e-02,\n",
       "        4.24227427e-01,  7.99597620e-01,  7.75131534e-01,  8.24669399e-01,\n",
       "        6.76495412e-01,  8.87617646e-01,  8.90385041e-01,  8.80353413e-01,\n",
       "        8.85703872e-01,  1.06281730e+00,  4.25585734e-01,  8.99538169e-01,\n",
       "        9.40196549e-01,  9.00371579e-01,  6.74251460e-01,  8.99527227e-01,\n",
       "        1.00632850e+00,  9.60358237e-01,  9.00456521e-01,  8.89079878e-01,\n",
       "        9.00046545e-01,  8.99963596e-01,  8.99848841e-01,  1.10032385e+00,\n",
       "        1.00168946e+00,  8.99667948e-01,  9.57922034e-01,  9.00425907e-01,\n",
       "        1.06657824e+00,  1.09982269e+00,  1.07708984e+00,  1.06119167e+00,\n",
       "        1.03657626e+00,  1.05026847e+00,  8.99967133e-01,  1.04039390e+00,\n",
       "        1.04812775e+00,  6.35200822e-01,  1.22739495e+00,  5.85053053e-01,\n",
       "        5.25788135e-01,  7.79886143e-01,  1.05362288e+00,  5.55948646e-01,\n",
       "        8.68904447e-01,  9.00464383e-01,  1.09674999e+00,  9.00097816e-01,\n",
       "        9.00129293e-01,  9.00160781e-01,  1.04633654e+00,  8.99877720e-01,\n",
       "        1.95164128e-01,  6.04956564e-01,  8.99826967e-01,  7.59583619e-01,\n",
       "        1.00974875e+00,  9.17350503e-01,  8.99852279e-01,  3.71511235e-01,\n",
       "       -3.05546368e-02, -4.22111064e-02, -7.74912221e-02, -9.43463081e-02,\n",
       "       -1.00074064e-01, -2.37426597e-02,  9.98797064e-02,  1.00400758e-01,\n",
       "        5.14349995e-01,  7.49107508e-01,  1.00156123e-01,  9.95994377e-02,\n",
       "        5.96260815e-02,  9.97585840e-02,  1.65758368e-01,  1.91618232e-01,\n",
       "       -5.00089289e-02, -2.57704569e-02,  4.34447673e-02, -3.52097636e-03,\n",
       "       -1.00264836e-01, -2.54780966e-02,  2.25532815e-02,  1.00095330e-01,\n",
       "       -2.52445792e-02,  2.66124470e-02, -3.96465984e-02,  1.61653685e-02,\n",
       "        2.90936419e-02,  7.62759484e-02,  2.47346741e-02, -5.89326568e-02,\n",
       "        1.00233949e-01,  3.00678867e-01,  5.86649387e-01,  2.15802973e-02,\n",
       "        8.88515886e-01, -5.42423212e-02, -9.98803569e-02,  5.52151958e-03,\n",
       "        1.50579711e-03,  2.12653152e-03,  2.29660773e-02,  1.32370210e-01,\n",
       "        7.57352402e-02,  2.14889841e-02,  4.81351122e-02, -2.11743044e-02,\n",
       "       -8.24986873e-03,  9.99780530e-02,  1.73733510e-01, -1.65332221e-02,\n",
       "       -1.97491944e-02, -3.31020048e-02,  1.00153109e-01,  4.58597202e-02,\n",
       "        4.61653378e-02,  1.40340085e-01,  3.48684378e-02, -2.91899642e-02,\n",
       "        5.20614481e-02,  4.17659470e-02,  7.51079821e-03,  1.00036722e-01,\n",
       "        1.53721969e-01,  9.98853226e-02,  1.00256575e-01,  1.13021975e-01,\n",
       "        9.42292891e-02,  7.21656715e-02,  8.36925237e-02,  8.40800867e-02,\n",
       "        1.05562838e-02, -5.43932283e-02, -9.68193577e-02,  7.00089080e-02,\n",
       "        9.47953558e-02,  2.47328086e-02,  4.46409099e-02,  1.00147615e-01,\n",
       "        2.47404298e-01, -9.96127240e-02, -1.00327285e-01,  1.00216571e-01,\n",
       "        6.90577732e-02,  9.99772934e-02,  1.27743614e-01,  9.19265669e-02,\n",
       "       -1.66207981e-02, -7.33740599e-03,  1.78634437e-01,  1.00261139e-01,\n",
       "        1.00139219e-01,  1.86463503e-02,  3.33751376e-02, -7.03146999e-03,\n",
       "        8.51880237e-03, -9.99463906e-02,  1.00158070e-01,  9.96911239e-02,\n",
       "        1.29078069e-01,  9.19867302e-02,  9.45047250e-03, -7.88615757e-03,\n",
       "        1.00043105e-01,  9.40622621e-02,  9.71357798e-02,  9.98259486e-02,\n",
       "        4.30144291e-02, -7.77402911e-02, -7.90377902e-02, -3.76603364e-02,\n",
       "        3.76150805e-02,  9.98161964e-02,  9.94452846e-02,  2.61016440e-02,\n",
       "       -7.45763555e-02, -6.90911193e-03,  1.00021879e-01, -6.86137061e-02,\n",
       "       -1.25867324e-02, -2.67006507e-02,  1.50234551e-01,  7.99121999e-02,\n",
       "       -2.79298239e-02,  7.11912394e-03,  1.00053607e-01,  8.84845018e-01,\n",
       "        3.71338897e-02,  3.39792370e-02,  1.89324884e-02,  9.22087901e-03,\n",
       "        3.33474206e-02,  8.60940913e-02, -1.54030644e-02,  9.98700271e-02,\n",
       "        2.64371673e-03,  1.05111488e+00,  9.98965457e-02,  6.35397952e-02,\n",
       "       -6.67964113e-02,  9.99468536e-02,  7.14132649e-02,  9.27854931e-03,\n",
       "       -3.46122420e-02, -1.59669819e-02,  4.26862805e-03, -1.00367722e-01,\n",
       "       -3.78689220e-02,  1.00388063e-01,  1.88305856e-01,  9.97159370e-02,\n",
       "        9.98325703e-02,  1.00308335e-01,  1.00272782e-01,  2.91985030e-01,\n",
       "        7.13679984e-03,  1.99486659e-01, -3.15829265e-02,  3.13891526e-01,\n",
       "       -1.43125054e-02,  1.69881471e-01,  1.12557606e-01,  1.00361247e-01,\n",
       "        3.11831950e-01,  1.00123764e-01,  1.00164019e-01, -9.99855638e-02,\n",
       "       -7.97584115e-02, -2.08796342e-02, -9.99802116e-02,  1.46664621e-02,\n",
       "       -4.79309532e-02,  9.99980626e-02, -6.00736902e-02,  2.67764962e-01,\n",
       "        1.58207831e-01, -3.31559894e-02,  9.97942139e-02,  9.99775542e-02,\n",
       "       -1.00354762e-01,  8.29897180e-02,  9.98931722e-02,  2.10572716e-01,\n",
       "        4.71845754e-01,  4.66524887e-02,  1.42099321e-01,  1.00018673e-01,\n",
       "        9.96522414e-02,  1.65007732e-01,  2.81030712e-01,  4.56602330e-01,\n",
       "        7.53732194e-02,  9.96962723e-02,  1.00272277e-01,  4.32379885e-02,\n",
       "        9.98790570e-02,  1.00028495e-01,  9.96037307e-02,  4.81846203e-01,\n",
       "        4.42334535e-01,  4.50840243e-01,  7.03763882e-01,  7.54374575e-01,\n",
       "        1.00430924e-01,  9.98533034e-02,  3.87618719e-02,  7.89905483e-02,\n",
       "        1.00407328e-01, -2.70891481e-03,  1.00004774e-01,  1.00450341e-01,\n",
       "        1.02343173e-01,  9.98749211e-02, -1.13686602e-02, -2.64004919e-02,\n",
       "        1.00256850e-01,  9.98829876e-02,  1.00203028e-01,  6.16632318e-02,\n",
       "        9.85882273e-02,  4.05475000e-02,  4.20859205e-02,  4.50230045e-02,\n",
       "        4.89385693e-02, -8.35620624e-02, -3.69701427e-02, -6.03878049e-02,\n",
       "       -9.98762350e-02,  3.85397914e-02,  6.92590548e-02,  3.05744617e-01,\n",
       "       -5.64554211e-02,  9.33548444e-03,  8.11826942e-02, -3.66784718e-02,\n",
       "       -1.77480324e-02, -1.79408644e-02,  8.94419617e-04, -1.87910159e-02,\n",
       "        5.73856602e-03,  1.26450700e-02,  1.80719799e-01,  5.20954666e-02,\n",
       "        9.97533434e-02,  7.10521771e-02,  9.98984416e-02,  9.97262208e-02,\n",
       "        1.72082101e-01,  2.76971074e-01,  1.00266370e-01, -1.00378273e-01,\n",
       "        9.98858649e-02, -4.75967985e-02, -2.38701418e-02,  9.97622116e-02,\n",
       "       -3.70223862e-02, -5.55716624e-03, -6.67719563e-02,  1.63969313e-01,\n",
       "        3.99309067e-02, -5.50068230e-02, -3.94016659e-03,  3.35897688e-02,\n",
       "       -3.88757202e-02,  1.56128324e-01,  5.11200396e-01,  9.95986047e-02,\n",
       "        8.49259779e-01,  9.52500494e-01,  8.14331628e-01,  9.10700644e-01,\n",
       "        6.06263574e-01,  9.99959168e-02,  4.02337995e-03,  9.99396249e-02,\n",
       "        6.46079176e-02,  9.99453377e-02,  2.68629031e-02,  1.29452042e-02,\n",
       "        7.61638699e-02,  1.00339056e-01,  2.47969364e-01,  1.99065197e-01,\n",
       "        7.36772276e-02,  3.98537197e-02,  1.00215047e-01,  1.10752341e-02,\n",
       "        9.97325435e-02,  1.38660049e-01,  4.89371300e-01,  1.19278730e-01,\n",
       "       -3.57025955e-02,  1.00184656e-01,  2.46393221e-01,  1.70240666e-01,\n",
       "       -1.00279315e-01,  2.80381924e-01,  9.97312085e-02,  1.24960446e-01])"
      ]
     },
     "execution_count": 40,
     "metadata": {},
     "output_type": "execute_result"
    }
   ],
   "source": [
    "y_predict"
   ]
  },
  {
   "cell_type": "code",
   "execution_count": 19,
   "metadata": {},
   "outputs": [
    {
     "ename": "NameError",
     "evalue": "name 'x_train_scaled' is not defined",
     "output_type": "error",
     "traceback": [
      "\u001b[1;31m---------------------------------------------------------------------------\u001b[0m",
      "\u001b[1;31mNameError\u001b[0m                                 Traceback (most recent call last)",
      "Cell \u001b[1;32mIn[19], line 2\u001b[0m\n\u001b[0;32m      1\u001b[0m clf \u001b[38;5;241m=\u001b[39m SVR(kernel\u001b[38;5;241m=\u001b[39m\u001b[38;5;124m'\u001b[39m\u001b[38;5;124mrbf\u001b[39m\u001b[38;5;124m'\u001b[39m, C\u001b[38;5;241m=\u001b[39m\u001b[38;5;241m1\u001b[39m)\n\u001b[1;32m----> 2\u001b[0m clf\u001b[38;5;241m.\u001b[39mfit(\u001b[43mx_train_scaled\u001b[49m, y_train)\n\u001b[0;32m      3\u001b[0m y_predict \u001b[38;5;241m=\u001b[39m clf\u001b[38;5;241m.\u001b[39mpredict(x_train_scaled)\n\u001b[0;32m      4\u001b[0m \u001b[38;5;28mprint\u001b[39m(precision_score(y_train, (y_predict\u001b[38;5;241m>\u001b[39m\u001b[38;5;241m0.5\u001b[39m)\u001b[38;5;241m.\u001b[39mastype(\u001b[38;5;124m'\u001b[39m\u001b[38;5;124mfloat64\u001b[39m\u001b[38;5;124m'\u001b[39m)), accuracy_score(y_train, (y_predict\u001b[38;5;241m>\u001b[39m\u001b[38;5;241m0.5\u001b[39m)\u001b[38;5;241m.\u001b[39mastype(\u001b[38;5;124m'\u001b[39m\u001b[38;5;124mfloat64\u001b[39m\u001b[38;5;124m'\u001b[39m)), recall_score(y_train, (y_predict\u001b[38;5;241m>\u001b[39m\u001b[38;5;241m0.5\u001b[39m)\u001b[38;5;241m.\u001b[39mastype(\u001b[38;5;124m'\u001b[39m\u001b[38;5;124mfloat64\u001b[39m\u001b[38;5;124m'\u001b[39m)))\n",
      "\u001b[1;31mNameError\u001b[0m: name 'x_train_scaled' is not defined"
     ]
    }
   ],
   "source": [
    "clf = SVR(kernel='rbf', C=1)\n",
    "clf.fit(x_train_scaled, y_train)\n",
    "y_predict = clf.predict(x_train_scaled)\n",
    "print(precision_score(y_train, (y_predict>0.5).astype('float64')), accuracy_score(y_train, (y_predict>0.5).astype('float64')), recall_score(y_train, (y_predict>0.5).astype('float64')))"
   ]
  },
  {
   "cell_type": "code",
   "execution_count": 59,
   "metadata": {},
   "outputs": [
    {
     "data": {
      "text/plain": [
       "<sklearn.metrics._plot.confusion_matrix.ConfusionMatrixDisplay at 0x20c98ccea00>"
      ]
     },
     "execution_count": 59,
     "metadata": {},
     "output_type": "execute_result"
    },
    {
     "data": {
      "image/png": "[encoded data removed]",
      "text/plain": [
       "<Figure size 640x480 with 2 Axes>"
      ]
     },
     "metadata": {},
     "output_type": "display_data"
    }
   ],
   "source": [
    "cm = confusion_matrix(y_train, y_predict)\n",
    "disp = ConfusionMatrixDisplay(cm)\n",
    "disp.plot()"
   ]
  },
  {
   "cell_type": "code",
   "execution_count": 30,
   "metadata": {},
   "outputs": [
    {
     "data": {
      "text/plain": [
       "array([1., 0., 0., 1., 1., 1., 1., 1., 1., 1., 1., 1., 1., 0., 1., 1., 1.,\n",
       "       1., 1., 1., 1., 0., 1., 1., 0., 0., 0., 0., 0., 1., 1., 1., 0., 0.,\n",
       "       0., 0., 0., 1., 0., 0., 0., 1., 1., 1., 1., 1., 1., 1., 0., 1., 1.,\n",
       "       1., 1., 0., 0., 1., 1., 1., 1., 1., 1., 1., 1., 1., 1., 1., 0., 0.,\n",
       "       0., 0., 1., 1., 1., 1., 1., 1., 1., 1., 1., 1., 1., 1., 1., 1., 1.,\n",
       "       1., 0., 1., 1., 1., 1., 1., 1., 1., 1., 1., 1., 1., 1., 1., 1., 1.,\n",
       "       1., 1., 1., 1., 1., 1., 1., 1., 1., 1., 1., 1., 1., 1., 1., 1., 1.,\n",
       "       1., 1., 1., 1., 1., 1., 1., 1., 1., 1., 1., 1., 1., 1., 1., 1., 1.,\n",
       "       1., 1., 0., 0., 0., 1., 1., 1., 0., 1., 1., 1., 1., 1., 0., 1., 1.,\n",
       "       1., 0., 1., 1., 1., 1., 1., 1., 1., 1., 1., 1., 1., 1., 1., 1., 1.,\n",
       "       1., 1., 1., 1., 1., 1., 1., 0., 1., 0., 0., 0., 1., 0., 1., 1., 1.,\n",
       "       1., 1., 1., 1., 1., 0., 1., 1., 1., 1., 1., 1., 0., 0., 0., 0., 0.,\n",
       "       0., 0., 0., 0., 0., 1., 0., 0., 0., 0., 0., 0., 0., 0., 0., 0., 0.,\n",
       "       0., 0., 0., 0., 0., 0., 0., 0., 0., 0., 0., 0., 0., 1., 0., 1., 0.,\n",
       "       0., 0., 0., 0., 0., 0., 0., 0., 0., 0., 0., 0., 0., 0., 0., 0., 0.,\n",
       "       0., 0., 0., 0., 0., 0., 0., 0., 0., 0., 0., 0., 0., 0., 0., 0., 0.,\n",
       "       0., 0., 0., 0., 0., 0., 0., 0., 0., 0., 0., 0., 0., 0., 0., 0., 0.,\n",
       "       0., 0., 0., 0., 0., 0., 0., 0., 0., 0., 0., 0., 0., 0., 0., 0., 0.,\n",
       "       0., 0., 0., 0., 0., 0., 0., 0., 0., 0., 0., 0., 0., 0., 0., 0., 0.,\n",
       "       0., 0., 0., 0., 1., 0., 0., 0., 0., 0., 0., 0., 0., 0., 1., 0., 0.,\n",
       "       0., 0., 0., 0., 0., 0., 0., 0., 0., 0., 0., 0., 0., 0., 0., 0., 0.,\n",
       "       0., 0., 0., 0., 0., 0., 0., 1., 0., 0., 0., 0., 0., 0., 0., 0., 0.,\n",
       "       0., 0., 0., 0., 0., 0., 0., 0., 0., 0., 1., 0., 0., 0., 0., 0., 0.,\n",
       "       0., 0., 0., 0., 0., 0., 0., 0., 1., 0., 0., 0., 0., 0., 0., 0., 0.,\n",
       "       0., 0., 0., 0., 0., 0., 0., 0., 0., 0., 0., 0., 0., 0., 0., 0., 0.,\n",
       "       0., 0., 0., 0., 0., 0., 0., 0., 0., 0., 0., 0., 0., 0., 0., 0., 0.,\n",
       "       0., 0., 0., 0., 0., 0., 0., 0., 0., 0., 0., 0., 0., 0., 0., 0., 0.,\n",
       "       0., 0., 0., 0., 0., 0., 0., 1., 0., 1., 1., 1., 1., 1., 0., 0., 0.,\n",
       "       0., 0., 0., 0., 0., 0., 0., 0., 0., 0., 0., 0., 0., 0., 0., 0., 0.,\n",
       "       0., 0., 0., 0., 0., 0., 0.])"
      ]
     },
     "execution_count": 30,
     "metadata": {},
     "output_type": "execute_result"
    }
   ],
   "source": [
    "y_predict"
   ]
  },
  {
   "cell_type": "code",
   "execution_count": 20,
   "metadata": {},
   "outputs": [
    {
     "ename": "NameError",
     "evalue": "name 'x_test_scaled' is not defined",
     "output_type": "error",
     "traceback": [
      "\u001b[1;31m---------------------------------------------------------------------------\u001b[0m",
      "\u001b[1;31mNameError\u001b[0m                                 Traceback (most recent call last)",
      "Cell \u001b[1;32mIn[20], line 3\u001b[0m\n\u001b[0;32m      1\u001b[0m \u001b[38;5;66;03m#now for the test data\u001b[39;00m\n\u001b[0;32m      2\u001b[0m \u001b[38;5;66;03m# x_test_pca = pca.transform(x_test)\u001b[39;00m\n\u001b[1;32m----> 3\u001b[0m y_predict \u001b[38;5;241m=\u001b[39m clf\u001b[38;5;241m.\u001b[39mpredict(\u001b[43mx_test_scaled\u001b[49m)\n\u001b[0;32m      4\u001b[0m \u001b[38;5;28mprint\u001b[39m(precision_score(y_test, y_predict), accuracy_score(y_test, y_predict), recall_score(y_test, y_predict))\n",
      "\u001b[1;31mNameError\u001b[0m: name 'x_test_scaled' is not defined"
     ]
    }
   ],
   "source": [
    "#now for the test data\n",
    "# x_test_pca = pca.transform(x_test)\n",
    "y_predict = clf.predict(x_test_scaled)\n",
    "print(precision_score(y_test, y_predict), accuracy_score(y_test, y_predict), recall_score(y_test, y_predict))"
   ]
  },
  {
   "cell_type": "code",
   "execution_count": 56,
   "metadata": {},
   "outputs": [
    {
     "data": {
      "text/plain": [
       "<sklearn.metrics._plot.confusion_matrix.ConfusionMatrixDisplay at 0x20c98fd3d00>"
      ]
     },
     "execution_count": 56,
     "metadata": {},
     "output_type": "execute_result"
    },
    {
     "data": {
      "image/png": "[encoded data removed]",
      "text/plain": [
       "<Figure size 640x480 with 2 Axes>"
      ]
     },
     "metadata": {},
     "output_type": "display_data"
    }
   ],
   "source": [
    "cm = confusion_matrix(y_test, y_predict)\n",
    "disp = ConfusionMatrixDisplay(cm)\n",
    "disp.plot()"
   ]
  },
  {
   "cell_type": "code",
   "execution_count": 44,
   "metadata": {},
   "outputs": [
    {
     "data": {
      "text/plain": [
       "array([0., 0., 0., 1., 1., 0., 0., 1., 0., 0., 0., 0., 1., 1., 1., 1., 1.,\n",
       "       1., 1., 1., 1., 1., 1., 1., 0., 0., 0., 0., 0., 0., 0., 0., 0., 0.,\n",
       "       0., 0., 0., 1., 0., 0., 0., 0., 0., 0., 0., 0., 0., 0., 0., 0., 0.,\n",
       "       0., 0., 0., 0., 0., 0., 0., 0., 0., 0., 0., 0., 0., 0., 0., 0., 0.,\n",
       "       0., 0., 0., 0., 0., 0., 0., 0., 0., 0., 0., 0., 0., 0., 0., 0., 0.,\n",
       "       0., 0., 0., 0., 0., 0., 0.])"
      ]
     },
     "execution_count": 44,
     "metadata": {},
     "output_type": "execute_result"
    }
   ],
   "source": [
    "\n",
    "y_predict"
   ]
  },
  {
   "cell_type": "code",
   "execution_count": 38,
   "metadata": {},
   "outputs": [
    {
     "data": {
      "text/plain": [
       "array([1., 1., 1., 1., 1., 1., 1., 1., 1., 1., 1., 1., 1., 1., 1., 1., 1.,\n",
       "       1., 1., 1., 1., 1., 1., 1., 0., 0., 0., 0., 0., 0., 0., 0., 0., 0.,\n",
       "       0., 0., 0., 0., 0., 0., 0., 0., 0., 0., 0., 0., 0., 0., 0., 0., 0.,\n",
       "       0., 0., 0., 0., 0., 0., 0., 0., 0., 0., 0., 0., 0., 0., 0., 0., 0.,\n",
       "       0., 0., 0., 0., 0., 0., 0., 0., 0., 0., 0., 0., 0., 0., 0., 0., 0.,\n",
       "       0., 0., 0., 0., 0., 0., 0.])"
      ]
     },
     "execution_count": 38,
     "metadata": {},
     "output_type": "execute_result"
    }
   ],
   "source": [
    "y_test"
   ]
  },
  {
   "cell_type": "code",
   "execution_count": 21,
   "metadata": {},
   "outputs": [],
   "source": [
    "all_x = np.concatenate([x_train, x_test])\n",
    "all_y = np.concatenate([y_train, y_test])"
   ]
  },
  {
   "cell_type": "code",
   "execution_count": 23,
   "metadata": {},
   "outputs": [
    {
     "name": "stdout",
     "output_type": "stream",
     "text": [
      "0.8095238095238095 0.834 0.765\n"
     ]
    }
   ],
   "source": [
    "clf = SVC(kernel='rbf', C=0.4)\n",
    "clf.fit(x_train, y_train)\n",
    "y_predict = clf.predict(x_train)\n",
    "print(precision_score(y_train, y_predict), accuracy_score(y_train, y_predict), recall_score(y_train, y_predict))"
   ]
  },
  {
   "cell_type": "code",
   "execution_count": 21,
   "metadata": {},
   "outputs": [
    {
     "name": "stdout",
     "output_type": "stream",
     "text": [
      "0.8626373626373627 0.864 0.785\n"
     ]
    }
   ],
   "source": [
    "clf = SVR(kernel='rbf', C=0.4)\n",
    "clf.fit(x_train, y_train)\n",
    "y_predict = clf.predict(x_train)\n",
    "print(precision_score(y_train,  (y_predict>0.5).astype('float64')), accuracy_score(y_train,  (y_predict>0.5).astype('float64')), recall_score(y_train,  (y_predict>0.5).astype('float64')))"
   ]
  },
  {
   "cell_type": "code",
   "execution_count": 24,
   "metadata": {},
   "outputs": [
    {
     "ename": "NameError",
     "evalue": "name 'all_x' is not defined",
     "output_type": "error",
     "traceback": [
      "\u001b[1;31m---------------------------------------------------------------------------\u001b[0m",
      "\u001b[1;31mNameError\u001b[0m                                 Traceback (most recent call last)",
      "Cell \u001b[1;32mIn[24], line 2\u001b[0m\n\u001b[0;32m      1\u001b[0m clf \u001b[38;5;241m=\u001b[39m SVC(kernel\u001b[38;5;241m=\u001b[39m\u001b[38;5;124m'\u001b[39m\u001b[38;5;124mrbf\u001b[39m\u001b[38;5;124m'\u001b[39m, C\u001b[38;5;241m=\u001b[39m\u001b[38;5;241m10\u001b[39m, gamma\u001b[38;5;241m=\u001b[39m\u001b[38;5;241m0.001\u001b[39m)\n\u001b[1;32m----> 2\u001b[0m clf\u001b[38;5;241m.\u001b[39mfit(\u001b[43mall_x\u001b[49m, all_y)\n\u001b[0;32m      3\u001b[0m y_predict \u001b[38;5;241m=\u001b[39m clf\u001b[38;5;241m.\u001b[39mpredict(x_train)\n\u001b[0;32m      4\u001b[0m \u001b[38;5;28mprint\u001b[39m(precision_score(y_train, y_predict), accuracy_score(y_train, y_predict), recall_score(y_train, y_predict))\n",
      "\u001b[1;31mNameError\u001b[0m: name 'all_x' is not defined"
     ]
    }
   ],
   "source": [
    "clf = SVC(kernel='rbf', C=10, gamma=0.001)\n",
    "clf.fit(all_x, all_y)\n",
    "y_predict = clf.predict(x_train)\n",
    "print(precision_score(y_train, y_predict), accuracy_score(y_train, y_predict), recall_score(y_train, y_predict))"
   ]
  },
  {
   "cell_type": "code",
   "execution_count": 20,
   "metadata": {},
   "outputs": [
    {
     "name": "stdout",
     "output_type": "stream",
     "text": [
      "0.9473684210526315 0.9239130434782609 0.75\n"
     ]
    }
   ],
   "source": [
    "y_predict = clf.predict(x_test)\n",
    "print(precision_score(y_test, y_predict), accuracy_score(y_test, y_predict), recall_score(y_test, y_predict))"
   ]
  },
  {
   "cell_type": "code",
   "execution_count": 37,
   "metadata": {},
   "outputs": [
    {
     "name": "stdout",
     "output_type": "stream",
     "text": [
      "0.9545454545454546 0.9565217391304348 0.875\n"
     ]
    }
   ],
   "source": [
    "y_predict = clf.predict(x_test)\n",
    "print(precision_score(y_test, y_predict), accuracy_score(y_test, y_predict), recall_score(y_test, y_predict))"
   ]
  },
  {
   "cell_type": "code",
   "execution_count": 21,
   "metadata": {},
   "outputs": [
    {
     "data": {
      "text/plain": [
       "<sklearn.metrics._plot.confusion_matrix.ConfusionMatrixDisplay at 0x1f833280280>"
      ]
     },
     "execution_count": 21,
     "metadata": {},
     "output_type": "execute_result"
    },
    {
     "data": {
      "image/png": "[encoded data removed]",
      "text/plain": [
       "<Figure size 640x480 with 2 Axes>"
      ]
     },
     "metadata": {},
     "output_type": "display_data"
    }
   ],
   "source": [
    "cm = confusion_matrix(y_test, y_predict)\n",
    "disp = ConfusionMatrixDisplay(cm)\n",
    "disp.plot()"
   ]
  },
  {
   "cell_type": "code",
   "execution_count": 46,
   "metadata": {},
   "outputs": [],
   "source": [
    "import pickle\n",
    "with open('model_svm_raw_vec_all_overfit.pkl','wb') as f:\n",
    "    pickle.dump(clf,f)"
   ]
  },
  {
   "cell_type": "code",
   "execution_count": 28,
   "metadata": {},
   "outputs": [
    {
     "data": {
      "text/plain": [
       "array([0., 0., 0., 1., 1., 1., 0., 1., 0., 0., 0., 0., 1., 1., 1., 1., 1.,\n",
       "       0., 1., 1., 1., 1., 1., 1., 0., 0., 0., 0., 0., 0., 0., 0., 0., 0.,\n",
       "       0., 0., 0., 1., 0., 0., 0., 0., 0., 0., 0., 0., 0., 0., 0., 0., 0.,\n",
       "       0., 0., 0., 0., 0., 0., 0., 0., 0., 0., 0., 0., 0., 0., 0., 0., 0.,\n",
       "       0., 0., 0., 0., 0., 0., 0., 0., 0., 0., 0., 0., 0., 0., 0., 0., 0.,\n",
       "       0., 0., 0., 0., 0., 0., 0.])"
      ]
     },
     "execution_count": 28,
     "metadata": {},
     "output_type": "execute_result"
    }
   ],
   "source": [
    "y_predict"
   ]
  },
  {
   "cell_type": "code",
   "execution_count": 31,
   "metadata": {},
   "outputs": [
    {
     "name": "stdout",
     "output_type": "stream",
     "text": [
      "0.8333333333333334 0.888 0.9\n",
      "0.6842105263157895 0.8152173913043478 0.5416666666666666\n"
     ]
    }
   ],
   "source": [
    "scaler = StandardScaler()\n",
    "scaler.fit(all_data)\n",
    "x_train_scaled = scaler.transform(x_train)\n",
    "x_test_scaled = scaler.transform(x_test)\n",
    "clf = SVC(kernel='linear', C=0.001, gamma=0.001,class_weight={0: 2, 1: 3})\n",
    "clf.fit(x_train_scaled, y_train)\n",
    "y_predict = clf.predict(x_train_scaled)\n",
    "print(precision_score(y_train, y_predict), accuracy_score(y_train, y_predict), recall_score(y_train, y_predict))\n",
    "y_predict = clf.predict(x_test_scaled)\n",
    "print(precision_score(y_test, y_predict), accuracy_score(y_test, y_predict), recall_score(y_test, y_predict))"
   ]
  },
  {
   "cell_type": "code",
   "execution_count": null,
   "metadata": {},
   "outputs": [],
   "source": []
  },
  {
   "cell_type": "code",
   "execution_count": null,
   "metadata": {},
   "outputs": [],
   "source": [
    "y_test_predict = clf.predict(x_train_pca_neg)"
   ]
  },
  {
   "cell_type": "code",
   "execution_count": null,
   "metadata": {},
   "outputs": [],
   "source": [
    "y_test_predict.mean()"
   ]
  },
  {
   "cell_type": "code",
   "execution_count": 190,
   "metadata": {},
   "outputs": [],
   "source": [
    "import torch\n",
    "import torch.nn as nn\n",
    " \n",
    "model = nn.Sequential(\n",
    "    nn.Linear(12, 60),\n",
    "    nn.ReLU(),\n",
    "    nn.Linear(100, 50),\n",
    "    nn.ReLU(),\n",
    "    nn.Linear(50, 10),\n",
    "    nn.Sigmoid()\n",
    ")"
   ]
  },
  {
   "cell_type": "code",
   "execution_count": 174,
   "metadata": {},
   "outputs": [
    {
     "data": {
      "text/plain": [
       "(500, 12)"
      ]
     },
     "execution_count": 174,
     "metadata": {},
     "output_type": "execute_result"
    }
   ],
   "source": [
    "x_train_pca.shape"
   ]
  },
  {
   "cell_type": "code",
   "execution_count": 172,
   "metadata": {},
   "outputs": [],
   "source": [
    "loss_fn = nn.BCELoss()\n",
    "optimizer = torch.optim.Adam(model.parameters(), lr=0.001)"
   ]
  },
  {
   "cell_type": "code",
   "execution_count": 186,
   "metadata": {},
   "outputs": [],
   "source": [
    "x_arr = x_train_pca.reshape((-1, 12,1))\n",
    "tensor_x = torch.tensor(x_arr)"
   ]
  },
  {
   "cell_type": "code",
   "execution_count": 187,
   "metadata": {},
   "outputs": [
    {
     "data": {
      "text/plain": [
       "(500, 12, 1)"
      ]
     },
     "execution_count": 187,
     "metadata": {},
     "output_type": "execute_result"
    }
   ],
   "source": [
    "x_arr.shape\n"
   ]
  },
  {
   "cell_type": "code",
   "execution_count": 181,
   "metadata": {},
   "outputs": [
    {
     "data": {
      "text/plain": [
       "array([-0.02337584,  0.01675897, -0.00350582, -0.01113001, -0.009599  ,\n",
       "        0.00142585,  0.00052333, -0.00766031, -0.00191305,  0.00034715,\n",
       "       -0.000832  , -0.0032357 ], dtype=float32)"
      ]
     },
     "execution_count": 181,
     "metadata": {},
     "output_type": "execute_result"
    }
   ],
   "source": [
    "x_train_pca[0]"
   ]
  },
  {
   "cell_type": "code",
   "execution_count": 188,
   "metadata": {},
   "outputs": [
    {
     "data": {
      "text/plain": [
       "array([[-0.02337584],\n",
       "       [ 0.01675897],\n",
       "       [-0.00350582],\n",
       "       [-0.01113001],\n",
       "       [-0.009599  ],\n",
       "       [ 0.00142585],\n",
       "       [ 0.00052333],\n",
       "       [-0.00766031],\n",
       "       [-0.00191305],\n",
       "       [ 0.00034715],\n",
       "       [-0.000832  ],\n",
       "       [-0.0032357 ]], dtype=float32)"
      ]
     },
     "execution_count": 188,
     "metadata": {},
     "output_type": "execute_result"
    }
   ],
   "source": [
    "x_arr[0]"
   ]
  },
  {
   "cell_type": "code",
   "execution_count": 192,
   "metadata": {},
   "outputs": [
    {
     "data": {
      "text/plain": [
       "torch.Size([500, 12, 1])"
      ]
     },
     "execution_count": 192,
     "metadata": {},
     "output_type": "execute_result"
    }
   ],
   "source": [
    "tensor_x.shape"
   ]
  },
  {
   "cell_type": "code",
   "execution_count": 191,
   "metadata": {},
   "outputs": [
    {
     "ename": "RuntimeError",
     "evalue": "mat1 and mat2 shapes cannot be multiplied (6000x1 and 12x60)",
     "output_type": "error",
     "traceback": [
      "\u001b[1;31m---------------------------------------------------------------------------\u001b[0m",
      "\u001b[1;31mRuntimeError\u001b[0m                              Traceback (most recent call last)",
      "\u001b[1;32md:\\Data\\anchoring_asio\\satlas\\embeddings.ipynb Cell 42\u001b[0m line \u001b[0;36m3\n\u001b[0;32m      <a href='vscode-notebook-cell:/d%3A/Data/anchoring_asio/satlas/embeddings.ipynb#X54sZmlsZQ%3D%3D?line=0'>1</a>\u001b[0m num_epochs \u001b[39m=\u001b[39m \u001b[39m4\u001b[39m\n\u001b[0;32m      <a href='vscode-notebook-cell:/d%3A/Data/anchoring_asio/satlas/embeddings.ipynb#X54sZmlsZQ%3D%3D?line=1'>2</a>\u001b[0m \u001b[39mfor\u001b[39;00m n \u001b[39min\u001b[39;00m \u001b[39mrange\u001b[39m(num_epochs):\n\u001b[1;32m----> <a href='vscode-notebook-cell:/d%3A/Data/anchoring_asio/satlas/embeddings.ipynb#X54sZmlsZQ%3D%3D?line=2'>3</a>\u001b[0m     y_pred \u001b[39m=\u001b[39m model(tensor_x)\n\u001b[0;32m      <a href='vscode-notebook-cell:/d%3A/Data/anchoring_asio/satlas/embeddings.ipynb#X54sZmlsZQ%3D%3D?line=3'>4</a>\u001b[0m     loss \u001b[39m=\u001b[39m loss_fn(y_pred, y_train)\n\u001b[0;32m      <a href='vscode-notebook-cell:/d%3A/Data/anchoring_asio/satlas/embeddings.ipynb#X54sZmlsZQ%3D%3D?line=4'>5</a>\u001b[0m     optimizer\u001b[39m.\u001b[39mzero_grad()\n",
      "File \u001b[1;32mc:\\Users\\yochanan\\.conda\\envs\\torch\\lib\\site-packages\\torch\\nn\\modules\\module.py:1501\u001b[0m, in \u001b[0;36mModule._call_impl\u001b[1;34m(self, *args, **kwargs)\u001b[0m\n\u001b[0;32m   1496\u001b[0m \u001b[39m# If we don't have any hooks, we want to skip the rest of the logic in\u001b[39;00m\n\u001b[0;32m   1497\u001b[0m \u001b[39m# this function, and just call forward.\u001b[39;00m\n\u001b[0;32m   1498\u001b[0m \u001b[39mif\u001b[39;00m \u001b[39mnot\u001b[39;00m (\u001b[39mself\u001b[39m\u001b[39m.\u001b[39m_backward_hooks \u001b[39mor\u001b[39;00m \u001b[39mself\u001b[39m\u001b[39m.\u001b[39m_backward_pre_hooks \u001b[39mor\u001b[39;00m \u001b[39mself\u001b[39m\u001b[39m.\u001b[39m_forward_hooks \u001b[39mor\u001b[39;00m \u001b[39mself\u001b[39m\u001b[39m.\u001b[39m_forward_pre_hooks\n\u001b[0;32m   1499\u001b[0m         \u001b[39mor\u001b[39;00m _global_backward_pre_hooks \u001b[39mor\u001b[39;00m _global_backward_hooks\n\u001b[0;32m   1500\u001b[0m         \u001b[39mor\u001b[39;00m _global_forward_hooks \u001b[39mor\u001b[39;00m _global_forward_pre_hooks):\n\u001b[1;32m-> 1501\u001b[0m     \u001b[39mreturn\u001b[39;00m forward_call(\u001b[39m*\u001b[39margs, \u001b[39m*\u001b[39m\u001b[39m*\u001b[39mkwargs)\n\u001b[0;32m   1502\u001b[0m \u001b[39m# Do not call functions when jit is used\u001b[39;00m\n\u001b[0;32m   1503\u001b[0m full_backward_hooks, non_full_backward_hooks \u001b[39m=\u001b[39m [], []\n",
      "File \u001b[1;32mc:\\Users\\yochanan\\.conda\\envs\\torch\\lib\\site-packages\\torch\\nn\\modules\\container.py:217\u001b[0m, in \u001b[0;36mSequential.forward\u001b[1;34m(self, input)\u001b[0m\n\u001b[0;32m    215\u001b[0m \u001b[39mdef\u001b[39;00m \u001b[39mforward\u001b[39m(\u001b[39mself\u001b[39m, \u001b[39minput\u001b[39m):\n\u001b[0;32m    216\u001b[0m     \u001b[39mfor\u001b[39;00m module \u001b[39min\u001b[39;00m \u001b[39mself\u001b[39m:\n\u001b[1;32m--> 217\u001b[0m         \u001b[39minput\u001b[39m \u001b[39m=\u001b[39m module(\u001b[39minput\u001b[39;49m)\n\u001b[0;32m    218\u001b[0m     \u001b[39mreturn\u001b[39;00m \u001b[39minput\u001b[39m\n",
      "File \u001b[1;32mc:\\Users\\yochanan\\.conda\\envs\\torch\\lib\\site-packages\\torch\\nn\\modules\\module.py:1501\u001b[0m, in \u001b[0;36mModule._call_impl\u001b[1;34m(self, *args, **kwargs)\u001b[0m\n\u001b[0;32m   1496\u001b[0m \u001b[39m# If we don't have any hooks, we want to skip the rest of the logic in\u001b[39;00m\n\u001b[0;32m   1497\u001b[0m \u001b[39m# this function, and just call forward.\u001b[39;00m\n\u001b[0;32m   1498\u001b[0m \u001b[39mif\u001b[39;00m \u001b[39mnot\u001b[39;00m (\u001b[39mself\u001b[39m\u001b[39m.\u001b[39m_backward_hooks \u001b[39mor\u001b[39;00m \u001b[39mself\u001b[39m\u001b[39m.\u001b[39m_backward_pre_hooks \u001b[39mor\u001b[39;00m \u001b[39mself\u001b[39m\u001b[39m.\u001b[39m_forward_hooks \u001b[39mor\u001b[39;00m \u001b[39mself\u001b[39m\u001b[39m.\u001b[39m_forward_pre_hooks\n\u001b[0;32m   1499\u001b[0m         \u001b[39mor\u001b[39;00m _global_backward_pre_hooks \u001b[39mor\u001b[39;00m _global_backward_hooks\n\u001b[0;32m   1500\u001b[0m         \u001b[39mor\u001b[39;00m _global_forward_hooks \u001b[39mor\u001b[39;00m _global_forward_pre_hooks):\n\u001b[1;32m-> 1501\u001b[0m     \u001b[39mreturn\u001b[39;00m forward_call(\u001b[39m*\u001b[39margs, \u001b[39m*\u001b[39m\u001b[39m*\u001b[39mkwargs)\n\u001b[0;32m   1502\u001b[0m \u001b[39m# Do not call functions when jit is used\u001b[39;00m\n\u001b[0;32m   1503\u001b[0m full_backward_hooks, non_full_backward_hooks \u001b[39m=\u001b[39m [], []\n",
      "File \u001b[1;32mc:\\Users\\yochanan\\.conda\\envs\\torch\\lib\\site-packages\\torch\\nn\\modules\\linear.py:114\u001b[0m, in \u001b[0;36mLinear.forward\u001b[1;34m(self, input)\u001b[0m\n\u001b[0;32m    113\u001b[0m \u001b[39mdef\u001b[39;00m \u001b[39mforward\u001b[39m(\u001b[39mself\u001b[39m, \u001b[39minput\u001b[39m: Tensor) \u001b[39m-\u001b[39m\u001b[39m>\u001b[39m Tensor:\n\u001b[1;32m--> 114\u001b[0m     \u001b[39mreturn\u001b[39;00m F\u001b[39m.\u001b[39;49mlinear(\u001b[39minput\u001b[39;49m, \u001b[39mself\u001b[39;49m\u001b[39m.\u001b[39;49mweight, \u001b[39mself\u001b[39;49m\u001b[39m.\u001b[39;49mbias)\n",
      "\u001b[1;31mRuntimeError\u001b[0m: mat1 and mat2 shapes cannot be multiplied (6000x1 and 12x60)"
     ]
    }
   ],
   "source": [
    "num_epochs = 4\n",
    "for n in range(num_epochs):\n",
    "    y_pred = model(tensor_x)\n",
    "    loss = loss_fn(y_pred, y_train)\n",
    "    optimizer.zero_grad()\n",
    "    loss.backward()\n",
    "    optimizer.step()"
   ]
  },
  {
   "cell_type": "code",
   "execution_count": null,
   "metadata": {},
   "outputs": [],
   "source": [
    "\n"
   ]
  },
  {
   "cell_type": "code",
   "execution_count": null,
   "metadata": {},
   "outputs": [],
   "source": []
  },
  {
   "cell_type": "code",
   "execution_count": null,
   "metadata": {},
   "outputs": [],
   "source": [
    "y_predict"
   ]
  },
  {
   "cell_type": "code",
   "execution_count": null,
   "metadata": {},
   "outputs": [],
   "source": []
  }
 ],
 "metadata": {
  "kernelspec": {
   "display_name": "torch",
   "language": "python",
   "name": "python3"
  },
  "language_info": {
   "codemirror_mode": {
    "name": "ipython",
    "version": 3
   },
   "file_extension": ".py",
   "mimetype": "text/x-python",
   "name": "python",
   "nbconvert_exporter": "python",
   "pygments_lexer": "ipython3",
   "version": "3.9.15"
  },
  "orig_nbformat": 4
 },
 "nbformat": 4,
 "nbformat_minor": 2
}
